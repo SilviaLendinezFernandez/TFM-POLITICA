{
 "cells": [
  {
   "cell_type": "markdown",
   "metadata": {},
   "source": [
    "# Análisis de agrupaciónes políticas en twitter\n",
    "Lo primero que tenemos que hacer es extraer tweets desde la api que nos ofrece twitter, tenemos el curso de datacamp disponible [aquí](https://www.datacamp.com/courses/importing-data-in-python-part-2), *nos interesan los capítulos 2 y 3 especialmemte*\n",
    "Voy a ir dejando un resumen de lo que contienen para hacerlo más fácil:\n",
    "* El formato standard, aunque no el único, que nos devuelve una api es **JSON** (JavaScript Code Notation)\n",
    "![](https://encrypted-tbn0.gstatic.com/images?q=tbn:ANd9GcQvI8lv3nmpUyybBdhcEjtq4sW5_w-AgSyQQfhC-F2D4WTg3GU4)\n"
   ]
  },
  {
   "cell_type": "markdown",
   "metadata": {},
   "source": [
    "Sobre la API de Twitter, que es la que nos interesa tenemos la documentación [aquì](https://developer.twitter.com/en/docs.html)\n",
    "Una **diferencia** importante que debemos conocer de la API de Twitter respecto de otras APIs es que la de Twitter requiere que tengamos una cuenta personal para realizar los requests, no podemos realizarlas de manera anónima.\n",
    "\n",
    "Una vez tenemos cuenta, accedemos al siguiente [link](https://developer.twitter.com/en/apps).\n",
    "Hacemos click en \"Create an App\" y seguimos los pasos.\n",
    "Copio la respuesta más larga que tenéis que dar:\n",
    "1. A School Project for EAE Business School\n",
    "2. We plan to analyze tweets and users to build a network of the current political framework in Spain and the connections of their members.\n",
    "3. No\n",
    "4. Using the API, we import tweets and user data to Python to show Tables and Graphs about the political representation in Twitter.\n",
    "\n",
    "Una vez rellenamos todo el formulario, nos envían un correo para que confirmemos nuestra cuenta, y nos toca esperar a que nos activen la cuenta de desarrollador."
   ]
  }
 ],
 "metadata": {
  "kernelspec": {
   "display_name": "Python 3",
   "language": "python",
   "name": "python3"
  },
  "language_info": {
   "codemirror_mode": {
    "name": "ipython",
    "version": 3
   },
   "file_extension": ".py",
   "mimetype": "text/x-python",
   "name": "python",
   "nbconvert_exporter": "python",
   "pygments_lexer": "ipython3",
   "version": "3.7.1"
  }
 },
 "nbformat": 4,
 "nbformat_minor": 2
}
