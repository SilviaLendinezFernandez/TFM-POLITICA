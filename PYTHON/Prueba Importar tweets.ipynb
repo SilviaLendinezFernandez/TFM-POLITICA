{
 "cells": [
  {
   "cell_type": "markdown",
   "metadata": {},
   "source": [
    "Primero importamos las librerias necesarias"
   ]
  },
  {
   "cell_type": "code",
   "execution_count": 1,
   "metadata": {},
   "outputs": [],
   "source": [
    "import tweepy,json\n",
    "import pandas as pd\n",
    "from tweepy import OAuthHandler\n",
    "from tweepy import API\n",
    "from tweepy import Stream\n",
    "from tweepy.streaming import StreamListener\n",
    "import time\n",
    "import sys"
   ]
  },
  {
   "cell_type": "markdown",
   "metadata": {},
   "source": [
    "Abrimos el archivo JSON que contiene los tweets, en el nombre del archivo se indica la fecha y la hora en la que es recogido"
   ]
  },
  {
   "cell_type": "code",
   "execution_count": 2,
   "metadata": {},
   "outputs": [],
   "source": [
    "tweets = []\n",
    "for line in open('streamer_20190216-233316.json', 'r'):\n",
    "    if line.strip():\n",
    "        tweets.append(json.loads(line))\n",
    "for line in open('streamer_20190217-205512.json', 'r'):\n",
    "    if line.strip():\n",
    "        tweets.append(json.loads(line))\n"
   ]
  },
  {
   "cell_type": "code",
   "execution_count": 4,
   "metadata": {},
   "outputs": [
    {
     "data": {
      "text/plain": [
       "26895"
      ]
     },
     "execution_count": 4,
     "metadata": {},
     "output_type": "execute_result"
    }
   ],
   "source": [
    "len(tweets)"
   ]
  },
  {
   "cell_type": "code",
   "execution_count": 4,
   "metadata": {},
   "outputs": [
    {
     "data": {
      "text/plain": [
       "14.389291689905187"
      ]
     },
     "execution_count": 4,
     "metadata": {},
     "output_type": "execute_result"
    }
   ],
   "source": [
    "lista_entendidos = []\n",
    "for tweet in tweets:\n",
    "    if 'extended_tweet' in tweet:\n",
    "        lista_entendidos.append(tweet)\n",
    "len(lista_entendidos)/len(tweets)*100"
   ]
  },
  {
   "cell_type": "code",
   "execution_count": 11,
   "metadata": {},
   "outputs": [
    {
     "data": {
      "text/plain": [
       "{'created_at': 'Sat Feb 16 22:33:12 +0000 2019',\n",
       " 'id': 1096900327931068416,\n",
       " 'id_str': '1096900327931068416',\n",
       " 'text': '@sanchezcastejon No me puedo creer que tu indigencia intelectual no te de ni para entender que has sido un accident… https://t.co/w4Ld7dyvN4',\n",
       " 'display_text_range': [17, 140],\n",
       " 'source': '<a href=\"http://twitter.com/download/iphone\" rel=\"nofollow\">Twitter for iPhone</a>',\n",
       " 'truncated': True,\n",
       " 'in_reply_to_status_id': 1096711767982567424,\n",
       " 'in_reply_to_status_id_str': '1096711767982567424',\n",
       " 'in_reply_to_user_id': 68740712,\n",
       " 'in_reply_to_user_id_str': '68740712',\n",
       " 'in_reply_to_screen_name': 'sanchezcastejon',\n",
       " 'user': {'id': 899100235028459521,\n",
       "  'id_str': '899100235028459521',\n",
       "  'name': 'C.Drexler',\n",
       "  'screen_name': 'ClydeDrexlerB',\n",
       "  'location': None,\n",
       "  'url': None,\n",
       "  'description': None,\n",
       "  'translator_type': 'none',\n",
       "  'protected': False,\n",
       "  'verified': False,\n",
       "  'followers_count': 149,\n",
       "  'friends_count': 546,\n",
       "  'listed_count': 1,\n",
       "  'favourites_count': 5221,\n",
       "  'statuses_count': 5331,\n",
       "  'created_at': 'Sun Aug 20 02:46:15 +0000 2017',\n",
       "  'utc_offset': None,\n",
       "  'time_zone': None,\n",
       "  'geo_enabled': False,\n",
       "  'lang': 'es',\n",
       "  'contributors_enabled': False,\n",
       "  'is_translator': False,\n",
       "  'profile_background_color': 'F5F8FA',\n",
       "  'profile_background_image_url': '',\n",
       "  'profile_background_image_url_https': '',\n",
       "  'profile_background_tile': False,\n",
       "  'profile_link_color': '1DA1F2',\n",
       "  'profile_sidebar_border_color': 'C0DEED',\n",
       "  'profile_sidebar_fill_color': 'DDEEF6',\n",
       "  'profile_text_color': '333333',\n",
       "  'profile_use_background_image': True,\n",
       "  'profile_image_url': 'http://pbs.twimg.com/profile_images/971508835318984706/tEwrcGEz_normal.jpg',\n",
       "  'profile_image_url_https': 'https://pbs.twimg.com/profile_images/971508835318984706/tEwrcGEz_normal.jpg',\n",
       "  'profile_banner_url': 'https://pbs.twimg.com/profile_banners/899100235028459521/1520460732',\n",
       "  'default_profile': True,\n",
       "  'default_profile_image': False,\n",
       "  'following': None,\n",
       "  'follow_request_sent': None,\n",
       "  'notifications': None},\n",
       " 'geo': None,\n",
       " 'coordinates': None,\n",
       " 'place': None,\n",
       " 'contributors': None,\n",
       " 'is_quote_status': False,\n",
       " 'extended_tweet': {'full_text': '@sanchezcastejon No me puedo creer que tu indigencia intelectual no te de ni para entender que has sido un accidente en la democracia y que nunca más tocarás un puesto público más q el típico enchufe de partido que te hagan. Estas muerto políticamente hablando delincuente Falconetti',\n",
       "  'display_text_range': [17, 283],\n",
       "  'entities': {'hashtags': [],\n",
       "   'urls': [],\n",
       "   'user_mentions': [{'screen_name': 'sanchezcastejon',\n",
       "     'name': 'Pedro Sánchez',\n",
       "     'id': 68740712,\n",
       "     'id_str': '68740712',\n",
       "     'indices': [0, 16]}],\n",
       "   'symbols': []}},\n",
       " 'quote_count': 0,\n",
       " 'reply_count': 0,\n",
       " 'retweet_count': 0,\n",
       " 'favorite_count': 0,\n",
       " 'entities': {'hashtags': [],\n",
       "  'urls': [{'url': 'https://t.co/w4Ld7dyvN4',\n",
       "    'expanded_url': 'https://twitter.com/i/web/status/1096900327931068416',\n",
       "    'display_url': 'twitter.com/i/web/status/1…',\n",
       "    'indices': [117, 140]}],\n",
       "  'user_mentions': [{'screen_name': 'sanchezcastejon',\n",
       "    'name': 'Pedro Sánchez',\n",
       "    'id': 68740712,\n",
       "    'id_str': '68740712',\n",
       "    'indices': [0, 16]}],\n",
       "  'symbols': []},\n",
       " 'favorited': False,\n",
       " 'retweeted': False,\n",
       " 'filter_level': 'low',\n",
       " 'lang': 'es',\n",
       " 'timestamp_ms': '1550356392258'}"
      ]
     },
     "execution_count": 11,
     "metadata": {},
     "output_type": "execute_result"
    }
   ],
   "source": [
    "lista_influencers = []\n",
    "tweets[0]"
   ]
  },
  {
   "cell_type": "code",
   "execution_count": 5,
   "metadata": {},
   "outputs": [
    {
     "ename": "TypeError",
     "evalue": "list indices must be integers or slices, not dict",
     "output_type": "error",
     "traceback": [
      "\u001b[0;31m---------------------------------------------------------------------------\u001b[0m",
      "\u001b[0;31mTypeError\u001b[0m                                 Traceback (most recent call last)",
      "\u001b[0;32m<ipython-input-5-a1869e47a20d>\u001b[0m in \u001b[0;36m<module>\u001b[0;34m\u001b[0m\n\u001b[1;32m      1\u001b[0m \u001b[0mdiccionario_tweets\u001b[0m \u001b[0;34m=\u001b[0m \u001b[0;34m{\u001b[0m\u001b[0;34m}\u001b[0m\u001b[0;34m\u001b[0m\u001b[0;34m\u001b[0m\u001b[0m\n\u001b[1;32m      2\u001b[0m \u001b[0;32mfor\u001b[0m \u001b[0mx\u001b[0m \u001b[0;32min\u001b[0m \u001b[0mtweets\u001b[0m\u001b[0;34m:\u001b[0m\u001b[0;34m\u001b[0m\u001b[0;34m\u001b[0m\u001b[0m\n\u001b[0;32m----> 3\u001b[0;31m     \u001b[0;32mfor\u001b[0m \u001b[0mk\u001b[0m\u001b[0;34m,\u001b[0m\u001b[0mv\u001b[0m \u001b[0;32min\u001b[0m \u001b[0mtweets\u001b[0m\u001b[0;34m[\u001b[0m\u001b[0mx\u001b[0m\u001b[0;34m]\u001b[0m\u001b[0;34m.\u001b[0m\u001b[0mitems\u001b[0m\u001b[0;34m(\u001b[0m\u001b[0;34m)\u001b[0m\u001b[0;34m:\u001b[0m\u001b[0;34m\u001b[0m\u001b[0;34m\u001b[0m\u001b[0m\n\u001b[0m\u001b[1;32m      4\u001b[0m         \u001b[0mdiccionario_tweets\u001b[0m\u001b[0;34m[\u001b[0m\u001b[0mk\u001b[0m\u001b[0;34m]\u001b[0m \u001b[0;34m=\u001b[0m \u001b[0mv\u001b[0m\u001b[0;34m\u001b[0m\u001b[0;34m\u001b[0m\u001b[0m\n\u001b[1;32m      5\u001b[0m \u001b[0mdiccionario_tweets\u001b[0m\u001b[0;34m\u001b[0m\u001b[0;34m\u001b[0m\u001b[0m\n",
      "\u001b[0;31mTypeError\u001b[0m: list indices must be integers or slices, not dict"
     ]
    }
   ],
   "source": [
    "diccionario_tweets = {}\n",
    "for x in tweets: \n",
    "    for k,v in tweets[x].items():\n",
    "        diccionario_tweets[k] = v\n",
    "diccionario_tweets\n"
   ]
  },
  {
   "cell_type": "code",
   "execution_count": 77,
   "metadata": {},
   "outputs": [],
   "source": [
    "def flatten_tweets(tweets_json):\n",
    "    \"\"\" Flattens out tweet dictionaries so relevant JSON\n",
    "        is in a top-level dictionary.\"\"\"\n",
    "    tweets_list = []\n",
    "    \n",
    "    # Iterate through each tweet\n",
    "    for tweet in tweets_json:\n",
    "        tweet_obj = json.loads(tweet)\n",
    "    \n",
    "        # Store the user screen name in 'user-screen_name'\n",
    "        tweet_obj['user-screen_name'] = tweet_obj['user']['screen_name']\n",
    "    \n",
    "        # Check if this is a 140+ character tweet\n",
    "        if 'extended_tweet' in tweet_obj:\n",
    "            # Store the extended tweet text in 'extended_tweet-full_text'\n",
    "            tweet_obj['extended_tweet-full_text'] = tweet_obj['extended_tweet']['full_text']\n",
    "    \n",
    "        if 'retweeted_status' in tweet_obj:\n",
    "            # Store the retweet user screen name in 'retweeted_status-user-screen_name'\n",
    "            tweet_obj['retweeted_status-user-screen_name'] = tweet_obj['retweeted_status']['user']['screen_name']\n",
    "\n",
    "            # Store the retweet text in 'retweeted_status-text'\n",
    "            tweet_obj['retweeted_status-text'] = tweet_obj['retweeted_status']['text']\n",
    "            \n",
    "        tweets_list.append(tweet_obj)\n",
    "    return tweets_list"
   ]
  },
  {
   "cell_type": "code",
   "execution_count": 6,
   "metadata": {},
   "outputs": [
    {
     "data": {
      "text/plain": [
       "Index(['contributors', 'coordinates', 'created_at', 'display_text_range',\n",
       "       'entities', 'extended_entities', 'extended_tweet', 'favorite_count',\n",
       "       'favorited', 'filter_level', 'geo', 'id', 'id_str',\n",
       "       'in_reply_to_screen_name', 'in_reply_to_status_id',\n",
       "       'in_reply_to_status_id_str', 'in_reply_to_user_id',\n",
       "       'in_reply_to_user_id_str', 'is_quote_status', 'lang', 'place',\n",
       "       'possibly_sensitive', 'quote_count', 'quoted_status',\n",
       "       'quoted_status_id', 'quoted_status_id_str', 'quoted_status_permalink',\n",
       "       'reply_count', 'retweet_count', 'retweeted', 'retweeted_status',\n",
       "       'source', 'text', 'timestamp_ms', 'truncated', 'user'],\n",
       "      dtype='object')"
      ]
     },
     "execution_count": 6,
     "metadata": {},
     "output_type": "execute_result"
    }
   ],
   "source": [
    "df = pd.DataFrame(tweets)\n",
    "df.columns"
   ]
  }
 ],
 "metadata": {
  "kernelspec": {
   "display_name": "Python 3",
   "language": "python",
   "name": "python3"
  },
  "language_info": {
   "codemirror_mode": {
    "name": "ipython",
    "version": 3
   },
   "file_extension": ".py",
   "mimetype": "text/x-python",
   "name": "python",
   "nbconvert_exporter": "python",
   "pygments_lexer": "ipython3",
   "version": "3.7.1"
  }
 },
 "nbformat": 4,
 "nbformat_minor": 2
}
