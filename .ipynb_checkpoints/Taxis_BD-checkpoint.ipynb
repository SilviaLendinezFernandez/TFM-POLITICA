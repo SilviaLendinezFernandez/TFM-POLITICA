{
 "cells": [
  {
   "cell_type": "code",
   "execution_count": 1,
   "metadata": {
    "scrolled": true
   },
   "outputs": [
    {
     "data": {
      "text/html": [
       "<div>\n",
       "<style scoped>\n",
       "    .dataframe tbody tr th:only-of-type {\n",
       "        vertical-align: middle;\n",
       "    }\n",
       "\n",
       "    .dataframe tbody tr th {\n",
       "        vertical-align: top;\n",
       "    }\n",
       "\n",
       "    .dataframe thead th {\n",
       "        text-align: right;\n",
       "    }\n",
       "</style>\n",
       "<table border=\"1\" class=\"dataframe\">\n",
       "  <thead>\n",
       "    <tr style=\"text-align: right;\">\n",
       "      <th></th>\n",
       "      <th>Código</th>\n",
       "      <th>Matrícula</th>\n",
       "      <th>Fecha Matriculación</th>\n",
       "      <th>Marca</th>\n",
       "      <th>Modelo</th>\n",
       "      <th>Tipo</th>\n",
       "      <th>Variante</th>\n",
       "      <th>Clasificación medioambiental</th>\n",
       "      <th>Combustible</th>\n",
       "      <th>Cilindrada</th>\n",
       "      <th>Potencia</th>\n",
       "      <th>Número de Plazas</th>\n",
       "      <th>Fecha inicio de prestación del servicio de taxi</th>\n",
       "      <th>Eurotaxi</th>\n",
       "      <th>Régimen Especial de Eurotaxi</th>\n",
       "      <th>Fecha inicio Régimen Especial Eurotaxi</th>\n",
       "      <th>Fecha fin Régimen Especial Eurotaxi</th>\n",
       "      <th>Fecha</th>\n",
       "    </tr>\n",
       "  </thead>\n",
       "  <tbody>\n",
       "    <tr>\n",
       "      <th>0</th>\n",
       "      <td>1020144</td>\n",
       "      <td>2239DTJ</td>\n",
       "      <td>13/12/2005</td>\n",
       "      <td>SKODA</td>\n",
       "      <td>OCTAVIA</td>\n",
       "      <td>NaN</td>\n",
       "      <td>NaN</td>\n",
       "      <td>NaN</td>\n",
       "      <td>DIESEL</td>\n",
       "      <td>0</td>\n",
       "      <td>12.00</td>\n",
       "      <td>NaN</td>\n",
       "      <td>16/12/2005</td>\n",
       "      <td>NO</td>\n",
       "      <td>NO</td>\n",
       "      <td>NaN</td>\n",
       "      <td>NaN</td>\n",
       "      <td>30/07/2018</td>\n",
       "    </tr>\n",
       "    <tr>\n",
       "      <th>1</th>\n",
       "      <td>550040</td>\n",
       "      <td>8901GJP</td>\n",
       "      <td>21/11/2008</td>\n",
       "      <td>SKODA</td>\n",
       "      <td>OCTAVIA</td>\n",
       "      <td>NaN</td>\n",
       "      <td>NaN</td>\n",
       "      <td>NaN</td>\n",
       "      <td>DIESEL</td>\n",
       "      <td>0</td>\n",
       "      <td>12.00</td>\n",
       "      <td>NaN</td>\n",
       "      <td>11/12/2008</td>\n",
       "      <td>NO</td>\n",
       "      <td>NO</td>\n",
       "      <td>NaN</td>\n",
       "      <td>NaN</td>\n",
       "      <td>30/07/2018</td>\n",
       "    </tr>\n",
       "    <tr>\n",
       "      <th>2</th>\n",
       "      <td>550016</td>\n",
       "      <td>6364FVW</td>\n",
       "      <td>14/12/2007</td>\n",
       "      <td>SEAT</td>\n",
       "      <td>TOLEDO</td>\n",
       "      <td>NaN</td>\n",
       "      <td>NaN</td>\n",
       "      <td>NaN</td>\n",
       "      <td>DIESEL</td>\n",
       "      <td>0</td>\n",
       "      <td>12.00</td>\n",
       "      <td>NaN</td>\n",
       "      <td>18/11/2008</td>\n",
       "      <td>NO</td>\n",
       "      <td>NO</td>\n",
       "      <td>NaN</td>\n",
       "      <td>NaN</td>\n",
       "      <td>30/07/2018</td>\n",
       "    </tr>\n",
       "    <tr>\n",
       "      <th>3</th>\n",
       "      <td>550115</td>\n",
       "      <td>4249GST</td>\n",
       "      <td>08/01/2010</td>\n",
       "      <td>SKODA</td>\n",
       "      <td>OCTAVIA</td>\n",
       "      <td>NaN</td>\n",
       "      <td>NaN</td>\n",
       "      <td>NaN</td>\n",
       "      <td>DIESEL</td>\n",
       "      <td>0</td>\n",
       "      <td>12.00</td>\n",
       "      <td>NaN</td>\n",
       "      <td>14/01/2010</td>\n",
       "      <td>NO</td>\n",
       "      <td>NO</td>\n",
       "      <td>NaN</td>\n",
       "      <td>NaN</td>\n",
       "      <td>30/07/2018</td>\n",
       "    </tr>\n",
       "    <tr>\n",
       "      <th>4</th>\n",
       "      <td>550142</td>\n",
       "      <td>1561GVY</td>\n",
       "      <td>27/04/2010</td>\n",
       "      <td>SKODA</td>\n",
       "      <td>OCTAVIA</td>\n",
       "      <td>NaN</td>\n",
       "      <td>NaN</td>\n",
       "      <td>NaN</td>\n",
       "      <td>DIESEL</td>\n",
       "      <td>0</td>\n",
       "      <td>12.00</td>\n",
       "      <td>NaN</td>\n",
       "      <td>01/03/2010</td>\n",
       "      <td>NO</td>\n",
       "      <td>NO</td>\n",
       "      <td>NaN</td>\n",
       "      <td>NaN</td>\n",
       "      <td>30/07/2018</td>\n",
       "    </tr>\n",
       "    <tr>\n",
       "      <th>5</th>\n",
       "      <td>550214</td>\n",
       "      <td>6296HBZ</td>\n",
       "      <td>28/02/2011</td>\n",
       "      <td>SKODA</td>\n",
       "      <td>OCTAVIA</td>\n",
       "      <td>1Z</td>\n",
       "      <td>AACAYCX01/NFM5</td>\n",
       "      <td>NaN</td>\n",
       "      <td>DIESEL</td>\n",
       "      <td>0</td>\n",
       "      <td>11.64</td>\n",
       "      <td>NaN</td>\n",
       "      <td>03/08/2012</td>\n",
       "      <td>NO</td>\n",
       "      <td>NO</td>\n",
       "      <td>NaN</td>\n",
       "      <td>NaN</td>\n",
       "      <td>30/07/2018</td>\n",
       "    </tr>\n",
       "    <tr>\n",
       "      <th>6</th>\n",
       "      <td>550241</td>\n",
       "      <td>9097GYH</td>\n",
       "      <td>16/08/2010</td>\n",
       "      <td>VOLKSWAGEN</td>\n",
       "      <td>PASSAT</td>\n",
       "      <td>3C</td>\n",
       "      <td>AACBBBX0/FM6FM6*******</td>\n",
       "      <td>NaN</td>\n",
       "      <td>DIESEL</td>\n",
       "      <td>0</td>\n",
       "      <td>13.00</td>\n",
       "      <td>NaN</td>\n",
       "      <td>10/01/2013</td>\n",
       "      <td>NO</td>\n",
       "      <td>NO</td>\n",
       "      <td>NaN</td>\n",
       "      <td>NaN</td>\n",
       "      <td>30/07/2018</td>\n",
       "    </tr>\n",
       "    <tr>\n",
       "      <th>7</th>\n",
       "      <td>550244</td>\n",
       "      <td>3091HJM</td>\n",
       "      <td>29/02/2012</td>\n",
       "      <td>PEUGEOT</td>\n",
       "      <td>508</td>\n",
       "      <td>8</td>\n",
       "      <td>8D9HRB/PS</td>\n",
       "      <td>NaN</td>\n",
       "      <td>DIESEL</td>\n",
       "      <td>0</td>\n",
       "      <td>82.00</td>\n",
       "      <td>NaN</td>\n",
       "      <td>23/08/2013</td>\n",
       "      <td>NO</td>\n",
       "      <td>NO</td>\n",
       "      <td>NaN</td>\n",
       "      <td>NaN</td>\n",
       "      <td>30/07/2018</td>\n",
       "    </tr>\n",
       "    <tr>\n",
       "      <th>8</th>\n",
       "      <td>1198109</td>\n",
       "      <td>0800GZC</td>\n",
       "      <td>18/10/2010</td>\n",
       "      <td>CHEVROLET</td>\n",
       "      <td>EPICA</td>\n",
       "      <td>KLAL</td>\n",
       "      <td>LV3/134</td>\n",
       "      <td>B</td>\n",
       "      <td>DIESEL</td>\n",
       "      <td>1991</td>\n",
       "      <td>110.00</td>\n",
       "      <td>5</td>\n",
       "      <td>25/10/2010</td>\n",
       "      <td>NO</td>\n",
       "      <td>NO</td>\n",
       "      <td>NaN</td>\n",
       "      <td>NaN</td>\n",
       "      <td>30/07/2018</td>\n",
       "    </tr>\n",
       "    <tr>\n",
       "      <th>9</th>\n",
       "      <td>1196804</td>\n",
       "      <td>7686GYS</td>\n",
       "      <td>23/09/2010</td>\n",
       "      <td>CHEVROLET</td>\n",
       "      <td>EPICA</td>\n",
       "      <td>KLAL</td>\n",
       "      <td>LV1/111</td>\n",
       "      <td>C</td>\n",
       "      <td>GASOLINA TRANSFORMADO GLP</td>\n",
       "      <td>1993</td>\n",
       "      <td>105.00</td>\n",
       "      <td>5</td>\n",
       "      <td>04/10/2010</td>\n",
       "      <td>NO</td>\n",
       "      <td>NO</td>\n",
       "      <td>NaN</td>\n",
       "      <td>NaN</td>\n",
       "      <td>30/07/2018</td>\n",
       "    </tr>\n",
       "  </tbody>\n",
       "</table>\n",
       "</div>"
      ],
      "text/plain": [
       "    Código Matrícula Fecha Matriculación       Marca   Modelo  Tipo  \\\n",
       "0  1020144   2239DTJ          13/12/2005       SKODA  OCTAVIA   NaN   \n",
       "1   550040   8901GJP          21/11/2008       SKODA  OCTAVIA   NaN   \n",
       "2   550016   6364FVW          14/12/2007        SEAT   TOLEDO   NaN   \n",
       "3   550115   4249GST          08/01/2010       SKODA  OCTAVIA   NaN   \n",
       "4   550142   1561GVY          27/04/2010       SKODA  OCTAVIA   NaN   \n",
       "5   550214   6296HBZ          28/02/2011       SKODA  OCTAVIA    1Z   \n",
       "6   550241   9097GYH          16/08/2010  VOLKSWAGEN   PASSAT    3C   \n",
       "7   550244   3091HJM          29/02/2012    PEUGEOT       508     8   \n",
       "8  1198109   0800GZC          18/10/2010   CHEVROLET    EPICA  KLAL   \n",
       "9  1196804   7686GYS          23/09/2010   CHEVROLET    EPICA  KLAL   \n",
       "\n",
       "                 Variante Clasificación medioambiental  \\\n",
       "0                     NaN                          NaN   \n",
       "1                     NaN                          NaN   \n",
       "2                     NaN                          NaN   \n",
       "3                     NaN                          NaN   \n",
       "4                     NaN                          NaN   \n",
       "5          AACAYCX01/NFM5                          NaN   \n",
       "6  AACBBBX0/FM6FM6*******                          NaN   \n",
       "7               8D9HRB/PS                          NaN   \n",
       "8                 LV3/134                            B   \n",
       "9                 LV1/111                            C   \n",
       "\n",
       "                 Combustible  Cilindrada  Potencia Número de Plazas  \\\n",
       "0                     DIESEL           0     12.00              NaN   \n",
       "1                     DIESEL           0     12.00              NaN   \n",
       "2                     DIESEL           0     12.00              NaN   \n",
       "3                     DIESEL           0     12.00              NaN   \n",
       "4                     DIESEL           0     12.00              NaN   \n",
       "5                     DIESEL           0     11.64              NaN   \n",
       "6                     DIESEL           0     13.00              NaN   \n",
       "7                     DIESEL           0     82.00              NaN   \n",
       "8                     DIESEL        1991    110.00                5   \n",
       "9  GASOLINA TRANSFORMADO GLP        1993    105.00                5   \n",
       "\n",
       "  Fecha inicio de prestación del servicio de taxi Eurotaxi  \\\n",
       "0                                      16/12/2005       NO   \n",
       "1                                      11/12/2008       NO   \n",
       "2                                      18/11/2008       NO   \n",
       "3                                      14/01/2010       NO   \n",
       "4                                      01/03/2010       NO   \n",
       "5                                      03/08/2012       NO   \n",
       "6                                      10/01/2013       NO   \n",
       "7                                      23/08/2013       NO   \n",
       "8                                      25/10/2010       NO   \n",
       "9                                      04/10/2010       NO   \n",
       "\n",
       "  Régimen Especial de Eurotaxi Fecha inicio Régimen Especial Eurotaxi  \\\n",
       "0                           NO                                    NaN   \n",
       "1                           NO                                    NaN   \n",
       "2                           NO                                    NaN   \n",
       "3                           NO                                    NaN   \n",
       "4                           NO                                    NaN   \n",
       "5                           NO                                    NaN   \n",
       "6                           NO                                    NaN   \n",
       "7                           NO                                    NaN   \n",
       "8                           NO                                    NaN   \n",
       "9                           NO                                    NaN   \n",
       "\n",
       "  Fecha fin Régimen Especial Eurotaxi       Fecha  \n",
       "0                                 NaN  30/07/2018  \n",
       "1                                 NaN  30/07/2018  \n",
       "2                                 NaN  30/07/2018  \n",
       "3                                 NaN  30/07/2018  \n",
       "4                                 NaN  30/07/2018  \n",
       "5                                 NaN  30/07/2018  \n",
       "6                                 NaN  30/07/2018  \n",
       "7                                 NaN  30/07/2018  \n",
       "8                                 NaN  30/07/2018  \n",
       "9                                 NaN  30/07/2018  "
      ]
     },
     "execution_count": 1,
     "metadata": {},
     "output_type": "execute_result"
    }
   ],
   "source": [
    "import pandas as pd\n",
    "df = pd.read_csv('TaxiFlota.csv' , encoding = 'latin-1', sep = \";\")\n",
    "df.head(10)"
   ]
  },
  {
   "cell_type": "code",
   "execution_count": 2,
   "metadata": {},
   "outputs": [
    {
     "data": {
      "text/plain": [
       "Index(['codigo', 'matricula', 'fecha_matriculacion', 'marca', 'modelo', 'tipo',\n",
       "       'variante', 'clasificacion_medioambiental', 'combustible', 'cilindrada',\n",
       "       'potencia', 'numero_plazas', 'fecha_inicio', 'eurotaxi',\n",
       "       'regimen_eurotaxi', 'fecha_inicio_eurotaxi', 'fecha_fin_eurotaxi',\n",
       "       'fecha'],\n",
       "      dtype='object')"
      ]
     },
     "execution_count": 2,
     "metadata": {},
     "output_type": "execute_result"
    }
   ],
   "source": [
    "# 1. Renombrar columnas \n",
    "# 1.1 Cambiar los títulos a minúsculas\n",
    "\n",
    "df.columns = df.columns.str.lower()\n",
    "df\n",
    "\n",
    "# 1.2 Sustituir espacios por \"_\"\n",
    "df.columns = df.columns.str.replace(' ','_')\n",
    "\n",
    "# 1.3 Quitar tildes\n",
    "df.columns = df.columns.str.replace(\"á\", \"a\").str.replace(\"é\", \"e\").str.replace(\"í\", \"i\").str.replace(\"ó\", \"o\").str.replace(\"ú\", \"u\")\n",
    "\n",
    "# 1.4 Renombrar manualmente las columnas con nombres más cortos\n",
    "df = df.rename(columns= {'numero_de_plazas':'numero_plazas',\n",
    "                   'fecha_inicio_de_prestacion_del_servicio_de_taxi':'fecha_inicio', \n",
    "                   'regimen_especial_de_eurotaxi':'regimen_eurotaxi', \n",
    "                   'fecha_inicio_regimen_especial_eurotaxi':'fecha_inicio_eurotaxi', \n",
    "                   'fecha_fin_regimen_especial_eurotaxi':'fecha_fin_eurotaxi'})\n",
    "\n",
    "# 1.5 Comprobar nombre de columnas\n",
    "df.columns"
   ]
  },
  {
   "cell_type": "code",
   "execution_count": 3,
   "metadata": {},
   "outputs": [
    {
     "data": {
      "text/plain": [
       "codigo                            int64\n",
       "matricula                        object\n",
       "fecha_matriculacion              object\n",
       "marca                            object\n",
       "modelo                           object\n",
       "tipo                             object\n",
       "variante                         object\n",
       "clasificacion_medioambiental     object\n",
       "combustible                      object\n",
       "cilindrada                        int64\n",
       "potencia                        float64\n",
       "numero_plazas                    object\n",
       "fecha_inicio                     object\n",
       "eurotaxi                         object\n",
       "regimen_eurotaxi                 object\n",
       "fecha_inicio_eurotaxi            object\n",
       "fecha_fin_eurotaxi               object\n",
       "fecha                            object\n",
       "dtype: object"
      ]
     },
     "execution_count": 3,
     "metadata": {},
     "output_type": "execute_result"
    }
   ],
   "source": [
    "# 2. Convertir variables\n",
    "# 2.1 Inspeccionar el tipo de variables\n",
    "df.dtypes"
   ]
  },
  {
   "cell_type": "code",
   "execution_count": 4,
   "metadata": {},
   "outputs": [],
   "source": [
    "## 2.2 Identificar las variables a cambiar\n",
    "# codigo -> object\n",
    "df.codigo = df.codigo.astype('object')"
   ]
  },
  {
   "cell_type": "code",
   "execution_count": 5,
   "metadata": {},
   "outputs": [],
   "source": [
    "# matricula - > OK"
   ]
  },
  {
   "cell_type": "code",
   "execution_count": 6,
   "metadata": {},
   "outputs": [],
   "source": [
    "# fecha_matriculación -> date\n",
    "\n",
    "from datetime import date, datetime\n",
    "import re\n",
    "formato = '%d/%m/%Y'\n",
    "\n",
    "def parsea_fecha(fecha):\n",
    "    try:\n",
    "        a = datetime.strptime(fecha,formato)\n",
    "        return a\n",
    "    except:\n",
    "        return None\n",
    "\n",
    "df.fecha_matriculacion = df.fecha_matriculacion.apply(parsea_fecha)"
   ]
  },
  {
   "cell_type": "code",
   "execution_count": 7,
   "metadata": {},
   "outputs": [],
   "source": [
    "# marca -> OK\n",
    "# modelo -> OK\n",
    "# tipo -> OK\n",
    "# variante -> OK"
   ]
  },
  {
   "cell_type": "code",
   "execution_count": 8,
   "metadata": {},
   "outputs": [
    {
     "data": {
      "text/plain": [
       "0    NaN\n",
       "1    NaN\n",
       "2    NaN\n",
       "3    NaN\n",
       "4    NaN\n",
       "Name: clasificacion_medioambiental, dtype: category\n",
       "Categories (4, object): [0, Eco, C, B]"
      ]
     },
     "execution_count": 8,
     "metadata": {},
     "output_type": "execute_result"
    }
   ],
   "source": [
    "# clasificacion_medioambiental -> category\n",
    "df[\"clasificacion_medioambiental\"] = pd.Categorical(df[\"clasificacion_medioambiental\"], [\"0\", \"Eco\", \"C\", \"B\"])\n",
    "df[\"clasificacion_medioambiental\"].head()"
   ]
  },
  {
   "cell_type": "code",
   "execution_count": 9,
   "metadata": {},
   "outputs": [],
   "source": [
    "# combustible -> OK\n",
    "# cilindrada -> OK"
   ]
  },
  {
   "cell_type": "code",
   "execution_count": 10,
   "metadata": {},
   "outputs": [
    {
     "data": {
      "text/html": [
       "<div>\n",
       "<style scoped>\n",
       "    .dataframe tbody tr th:only-of-type {\n",
       "        vertical-align: middle;\n",
       "    }\n",
       "\n",
       "    .dataframe tbody tr th {\n",
       "        vertical-align: top;\n",
       "    }\n",
       "\n",
       "    .dataframe thead th {\n",
       "        text-align: right;\n",
       "    }\n",
       "</style>\n",
       "<table border=\"1\" class=\"dataframe\">\n",
       "  <thead>\n",
       "    <tr style=\"text-align: right;\">\n",
       "      <th></th>\n",
       "      <th>codigo</th>\n",
       "      <th>matricula</th>\n",
       "      <th>fecha_matriculacion</th>\n",
       "      <th>marca</th>\n",
       "      <th>modelo</th>\n",
       "      <th>tipo</th>\n",
       "      <th>variante</th>\n",
       "      <th>clasificacion_medioambiental</th>\n",
       "      <th>combustible</th>\n",
       "      <th>cilindrada</th>\n",
       "      <th>potencia</th>\n",
       "      <th>numero_plazas</th>\n",
       "      <th>fecha_inicio</th>\n",
       "      <th>eurotaxi</th>\n",
       "      <th>regimen_eurotaxi</th>\n",
       "      <th>fecha_inicio_eurotaxi</th>\n",
       "      <th>fecha_fin_eurotaxi</th>\n",
       "      <th>fecha</th>\n",
       "    </tr>\n",
       "  </thead>\n",
       "  <tbody>\n",
       "    <tr>\n",
       "      <th>0</th>\n",
       "      <td>1020144</td>\n",
       "      <td>2239DTJ</td>\n",
       "      <td>2005-12-13</td>\n",
       "      <td>SKODA</td>\n",
       "      <td>OCTAVIA</td>\n",
       "      <td>NaN</td>\n",
       "      <td>NaN</td>\n",
       "      <td>NaN</td>\n",
       "      <td>DIESEL</td>\n",
       "      <td>0</td>\n",
       "      <td>12.0</td>\n",
       "      <td>NaN</td>\n",
       "      <td>16/12/2005</td>\n",
       "      <td>NO</td>\n",
       "      <td>NO</td>\n",
       "      <td>NaN</td>\n",
       "      <td>NaN</td>\n",
       "      <td>30/07/2018</td>\n",
       "    </tr>\n",
       "    <tr>\n",
       "      <th>1</th>\n",
       "      <td>550040</td>\n",
       "      <td>8901GJP</td>\n",
       "      <td>2008-11-21</td>\n",
       "      <td>SKODA</td>\n",
       "      <td>OCTAVIA</td>\n",
       "      <td>NaN</td>\n",
       "      <td>NaN</td>\n",
       "      <td>NaN</td>\n",
       "      <td>DIESEL</td>\n",
       "      <td>0</td>\n",
       "      <td>12.0</td>\n",
       "      <td>NaN</td>\n",
       "      <td>11/12/2008</td>\n",
       "      <td>NO</td>\n",
       "      <td>NO</td>\n",
       "      <td>NaN</td>\n",
       "      <td>NaN</td>\n",
       "      <td>30/07/2018</td>\n",
       "    </tr>\n",
       "    <tr>\n",
       "      <th>2</th>\n",
       "      <td>550016</td>\n",
       "      <td>6364FVW</td>\n",
       "      <td>2007-12-14</td>\n",
       "      <td>SEAT</td>\n",
       "      <td>TOLEDO</td>\n",
       "      <td>NaN</td>\n",
       "      <td>NaN</td>\n",
       "      <td>NaN</td>\n",
       "      <td>DIESEL</td>\n",
       "      <td>0</td>\n",
       "      <td>12.0</td>\n",
       "      <td>NaN</td>\n",
       "      <td>18/11/2008</td>\n",
       "      <td>NO</td>\n",
       "      <td>NO</td>\n",
       "      <td>NaN</td>\n",
       "      <td>NaN</td>\n",
       "      <td>30/07/2018</td>\n",
       "    </tr>\n",
       "    <tr>\n",
       "      <th>3</th>\n",
       "      <td>550115</td>\n",
       "      <td>4249GST</td>\n",
       "      <td>2010-01-08</td>\n",
       "      <td>SKODA</td>\n",
       "      <td>OCTAVIA</td>\n",
       "      <td>NaN</td>\n",
       "      <td>NaN</td>\n",
       "      <td>NaN</td>\n",
       "      <td>DIESEL</td>\n",
       "      <td>0</td>\n",
       "      <td>12.0</td>\n",
       "      <td>NaN</td>\n",
       "      <td>14/01/2010</td>\n",
       "      <td>NO</td>\n",
       "      <td>NO</td>\n",
       "      <td>NaN</td>\n",
       "      <td>NaN</td>\n",
       "      <td>30/07/2018</td>\n",
       "    </tr>\n",
       "    <tr>\n",
       "      <th>4</th>\n",
       "      <td>550142</td>\n",
       "      <td>1561GVY</td>\n",
       "      <td>2010-04-27</td>\n",
       "      <td>SKODA</td>\n",
       "      <td>OCTAVIA</td>\n",
       "      <td>NaN</td>\n",
       "      <td>NaN</td>\n",
       "      <td>NaN</td>\n",
       "      <td>DIESEL</td>\n",
       "      <td>0</td>\n",
       "      <td>12.0</td>\n",
       "      <td>NaN</td>\n",
       "      <td>01/03/2010</td>\n",
       "      <td>NO</td>\n",
       "      <td>NO</td>\n",
       "      <td>NaN</td>\n",
       "      <td>NaN</td>\n",
       "      <td>30/07/2018</td>\n",
       "    </tr>\n",
       "  </tbody>\n",
       "</table>\n",
       "</div>"
      ],
      "text/plain": [
       "    codigo matricula fecha_matriculacion  marca   modelo tipo variante  \\\n",
       "0  1020144   2239DTJ          2005-12-13  SKODA  OCTAVIA  NaN      NaN   \n",
       "1   550040   8901GJP          2008-11-21  SKODA  OCTAVIA  NaN      NaN   \n",
       "2   550016   6364FVW          2007-12-14   SEAT   TOLEDO  NaN      NaN   \n",
       "3   550115   4249GST          2010-01-08  SKODA  OCTAVIA  NaN      NaN   \n",
       "4   550142   1561GVY          2010-04-27  SKODA  OCTAVIA  NaN      NaN   \n",
       "\n",
       "  clasificacion_medioambiental combustible  cilindrada  potencia  \\\n",
       "0                          NaN      DIESEL           0      12.0   \n",
       "1                          NaN      DIESEL           0      12.0   \n",
       "2                          NaN      DIESEL           0      12.0   \n",
       "3                          NaN      DIESEL           0      12.0   \n",
       "4                          NaN      DIESEL           0      12.0   \n",
       "\n",
       "  numero_plazas fecha_inicio eurotaxi regimen_eurotaxi fecha_inicio_eurotaxi  \\\n",
       "0           NaN   16/12/2005       NO               NO                   NaN   \n",
       "1           NaN   11/12/2008       NO               NO                   NaN   \n",
       "2           NaN   18/11/2008       NO               NO                   NaN   \n",
       "3           NaN   14/01/2010       NO               NO                   NaN   \n",
       "4           NaN   01/03/2010       NO               NO                   NaN   \n",
       "\n",
       "  fecha_fin_eurotaxi       fecha  \n",
       "0                NaN  30/07/2018  \n",
       "1                NaN  30/07/2018  \n",
       "2                NaN  30/07/2018  \n",
       "3                NaN  30/07/2018  \n",
       "4                NaN  30/07/2018  "
      ]
     },
     "execution_count": 10,
     "metadata": {},
     "output_type": "execute_result"
    }
   ],
   "source": [
    "# potencia -> float\n",
    "\n",
    "def a_numero(numero):\n",
    "    try:\n",
    "        a = pd.to_numeric(numero)\n",
    "        return a\n",
    "    except:\n",
    "        return None\n",
    "\n",
    "df.potencia = df.potencia.apply(a_numero)\n",
    "df.head()"
   ]
  },
  {
   "cell_type": "code",
   "execution_count": 11,
   "metadata": {
    "scrolled": false
   },
   "outputs": [
    {
     "data": {
      "text/plain": [
       "5                           45515\n",
       "7                             551\n",
       "de 5+1PMR a 7 plazas (*)      250\n",
       "6                             192\n",
       "9                             164\n",
       "5 + 1 PMR                     117\n",
       "de 5+1PMR a 9 plazas (*)       66\n",
       "8                              39\n",
       "5+1PMR                          6\n",
       "5+2PMR                          6\n",
       "de 6+1PMR a 9 plazas (*)        3\n",
       "7+1PMR                          3\n",
       "de 5+1PMR a 8 plazas (*)        3\n",
       "de 6+1PMR a 8 plazas (*)        3\n",
       "Name: numero_plazas, dtype: int64"
      ]
     },
     "execution_count": 11,
     "metadata": {},
     "output_type": "execute_result"
    }
   ],
   "source": [
    "# numero_plazas -> int\n",
    "\n",
    "# num_plazas se puede crear una nueva columna que ponga el número de plazas para mobilidad reducida y\n",
    "# luego añadir una columna con numero de plazas total\n",
    "df.numero_plazas.value_counts()"
   ]
  },
  {
   "cell_type": "code",
   "execution_count": 58,
   "metadata": {
    "scrolled": false
   },
   "outputs": [
    {
     "name": "stdout",
     "output_type": "stream",
     "text": [
      "nan\n",
      "nan\n",
      "nan\n",
      "5\n"
     ]
    },
    {
     "ename": "TypeError",
     "evalue": "ufunc 'isnan' not supported for the input types, and the inputs could not be safely coerced to any supported types according to the casting rule ''safe''",
     "output_type": "error",
     "traceback": [
      "\u001b[0;31m---------------------------------------------------------------------------\u001b[0m",
      "\u001b[0;31mTypeError\u001b[0m                                 Traceback (most recent call last)",
      "\u001b[0;32m<ipython-input-58-89c5fb38c3b5>\u001b[0m in \u001b[0;36m<module>\u001b[0;34m\u001b[0m\n\u001b[1;32m     19\u001b[0m \u001b[0;34m\u001b[0m\u001b[0m\n\u001b[1;32m     20\u001b[0m \u001b[0;34m\u001b[0m\u001b[0m\n\u001b[0;32m---> 21\u001b[0;31m \u001b[0mdf\u001b[0m\u001b[0;34m[\u001b[0m\u001b[0;34m'prueba'\u001b[0m\u001b[0;34m]\u001b[0m \u001b[0;34m=\u001b[0m \u001b[0mdf\u001b[0m\u001b[0;34m.\u001b[0m\u001b[0mnumero_plazas\u001b[0m\u001b[0;34m.\u001b[0m\u001b[0mapply\u001b[0m\u001b[0;34m(\u001b[0m\u001b[0;32mlambda\u001b[0m \u001b[0mx\u001b[0m\u001b[0;34m:\u001b[0m \u001b[0mpartidor_magico\u001b[0m\u001b[0;34m(\u001b[0m\u001b[0mx\u001b[0m\u001b[0;34m)\u001b[0m\u001b[0;34m[\u001b[0m\u001b[0;36m0\u001b[0m\u001b[0;34m]\u001b[0m\u001b[0;34m)\u001b[0m\u001b[0;34m\u001b[0m\u001b[0;34m\u001b[0m\u001b[0m\n\u001b[0m\u001b[1;32m     22\u001b[0m \u001b[0mdf\u001b[0m\u001b[0;34m.\u001b[0m\u001b[0mprueba\u001b[0m\u001b[0;34m.\u001b[0m\u001b[0mhead\u001b[0m\u001b[0;34m(\u001b[0m\u001b[0;34m)\u001b[0m\u001b[0;34m\u001b[0m\u001b[0;34m\u001b[0m\u001b[0m\n",
      "\u001b[0;32m/anaconda3/lib/python3.7/site-packages/pandas/core/series.py\u001b[0m in \u001b[0;36mapply\u001b[0;34m(self, func, convert_dtype, args, **kwds)\u001b[0m\n\u001b[1;32m   3192\u001b[0m             \u001b[0;32melse\u001b[0m\u001b[0;34m:\u001b[0m\u001b[0;34m\u001b[0m\u001b[0;34m\u001b[0m\u001b[0m\n\u001b[1;32m   3193\u001b[0m                 \u001b[0mvalues\u001b[0m \u001b[0;34m=\u001b[0m \u001b[0mself\u001b[0m\u001b[0;34m.\u001b[0m\u001b[0mastype\u001b[0m\u001b[0;34m(\u001b[0m\u001b[0mobject\u001b[0m\u001b[0;34m)\u001b[0m\u001b[0;34m.\u001b[0m\u001b[0mvalues\u001b[0m\u001b[0;34m\u001b[0m\u001b[0;34m\u001b[0m\u001b[0m\n\u001b[0;32m-> 3194\u001b[0;31m                 \u001b[0mmapped\u001b[0m \u001b[0;34m=\u001b[0m \u001b[0mlib\u001b[0m\u001b[0;34m.\u001b[0m\u001b[0mmap_infer\u001b[0m\u001b[0;34m(\u001b[0m\u001b[0mvalues\u001b[0m\u001b[0;34m,\u001b[0m \u001b[0mf\u001b[0m\u001b[0;34m,\u001b[0m \u001b[0mconvert\u001b[0m\u001b[0;34m=\u001b[0m\u001b[0mconvert_dtype\u001b[0m\u001b[0;34m)\u001b[0m\u001b[0;34m\u001b[0m\u001b[0;34m\u001b[0m\u001b[0m\n\u001b[0m\u001b[1;32m   3195\u001b[0m \u001b[0;34m\u001b[0m\u001b[0m\n\u001b[1;32m   3196\u001b[0m         \u001b[0;32mif\u001b[0m \u001b[0mlen\u001b[0m\u001b[0;34m(\u001b[0m\u001b[0mmapped\u001b[0m\u001b[0;34m)\u001b[0m \u001b[0;32mand\u001b[0m \u001b[0misinstance\u001b[0m\u001b[0;34m(\u001b[0m\u001b[0mmapped\u001b[0m\u001b[0;34m[\u001b[0m\u001b[0;36m0\u001b[0m\u001b[0;34m]\u001b[0m\u001b[0;34m,\u001b[0m \u001b[0mSeries\u001b[0m\u001b[0;34m)\u001b[0m\u001b[0;34m:\u001b[0m\u001b[0;34m\u001b[0m\u001b[0;34m\u001b[0m\u001b[0m\n",
      "\u001b[0;32mpandas/_libs/src/inference.pyx\u001b[0m in \u001b[0;36mpandas._libs.lib.map_infer\u001b[0;34m()\u001b[0m\n",
      "\u001b[0;32m<ipython-input-58-89c5fb38c3b5>\u001b[0m in \u001b[0;36m<lambda>\u001b[0;34m(x)\u001b[0m\n\u001b[1;32m     19\u001b[0m \u001b[0;34m\u001b[0m\u001b[0m\n\u001b[1;32m     20\u001b[0m \u001b[0;34m\u001b[0m\u001b[0m\n\u001b[0;32m---> 21\u001b[0;31m \u001b[0mdf\u001b[0m\u001b[0;34m[\u001b[0m\u001b[0;34m'prueba'\u001b[0m\u001b[0;34m]\u001b[0m \u001b[0;34m=\u001b[0m \u001b[0mdf\u001b[0m\u001b[0;34m.\u001b[0m\u001b[0mnumero_plazas\u001b[0m\u001b[0;34m.\u001b[0m\u001b[0mapply\u001b[0m\u001b[0;34m(\u001b[0m\u001b[0;32mlambda\u001b[0m \u001b[0mx\u001b[0m\u001b[0;34m:\u001b[0m \u001b[0mpartidor_magico\u001b[0m\u001b[0;34m(\u001b[0m\u001b[0mx\u001b[0m\u001b[0;34m)\u001b[0m\u001b[0;34m[\u001b[0m\u001b[0;36m0\u001b[0m\u001b[0;34m]\u001b[0m\u001b[0;34m)\u001b[0m\u001b[0;34m\u001b[0m\u001b[0;34m\u001b[0m\u001b[0m\n\u001b[0m\u001b[1;32m     22\u001b[0m \u001b[0mdf\u001b[0m\u001b[0;34m.\u001b[0m\u001b[0mprueba\u001b[0m\u001b[0;34m.\u001b[0m\u001b[0mhead\u001b[0m\u001b[0;34m(\u001b[0m\u001b[0;34m)\u001b[0m\u001b[0;34m\u001b[0m\u001b[0;34m\u001b[0m\u001b[0m\n",
      "\u001b[0;32m<ipython-input-58-89c5fb38c3b5>\u001b[0m in \u001b[0;36mpartidor_magico\u001b[0;34m(tmp)\u001b[0m\n\u001b[1;32m      2\u001b[0m \u001b[0;32mdef\u001b[0m \u001b[0mpartidor_magico\u001b[0m\u001b[0;34m(\u001b[0m\u001b[0mtmp\u001b[0m\u001b[0;34m)\u001b[0m\u001b[0;34m:\u001b[0m\u001b[0;34m\u001b[0m\u001b[0;34m\u001b[0m\u001b[0m\n\u001b[1;32m      3\u001b[0m     \u001b[0mprint\u001b[0m\u001b[0;34m(\u001b[0m\u001b[0mtmp\u001b[0m\u001b[0;34m)\u001b[0m\u001b[0;34m\u001b[0m\u001b[0;34m\u001b[0m\u001b[0m\n\u001b[0;32m----> 4\u001b[0;31m     \u001b[0;32mif\u001b[0m \u001b[0;32mnot\u001b[0m \u001b[0misinstance\u001b[0m\u001b[0;34m(\u001b[0m\u001b[0mtmp\u001b[0m\u001b[0;34m,\u001b[0m\u001b[0mstr\u001b[0m\u001b[0;34m)\u001b[0m \u001b[0;32mor\u001b[0m \u001b[0mnp\u001b[0m\u001b[0;34m.\u001b[0m\u001b[0misnan\u001b[0m\u001b[0;34m(\u001b[0m\u001b[0mtmp\u001b[0m\u001b[0;34m)\u001b[0m\u001b[0;34m:\u001b[0m\u001b[0;34m\u001b[0m\u001b[0;34m\u001b[0m\u001b[0m\n\u001b[0m\u001b[1;32m      5\u001b[0m         \u001b[0;32mreturn\u001b[0m \u001b[0;34m[\u001b[0m\u001b[0;34m'0'\u001b[0m\u001b[0;34m,\u001b[0m\u001b[0;34m'0'\u001b[0m\u001b[0;34m,\u001b[0m\u001b[0;34m'0'\u001b[0m\u001b[0;34m]\u001b[0m\u001b[0;34m\u001b[0m\u001b[0;34m\u001b[0m\u001b[0m\n\u001b[1;32m      6\u001b[0m     \u001b[0ma\u001b[0m \u001b[0;34m=\u001b[0m \u001b[0mre\u001b[0m\u001b[0;34m.\u001b[0m\u001b[0mfindall\u001b[0m\u001b[0;34m(\u001b[0m\u001b[0;34m'[0-9]+'\u001b[0m\u001b[0;34m,\u001b[0m\u001b[0mtmp\u001b[0m\u001b[0;34m)\u001b[0m\u001b[0;34m\u001b[0m\u001b[0;34m\u001b[0m\u001b[0m\n",
      "\u001b[0;31mTypeError\u001b[0m: ufunc 'isnan' not supported for the input types, and the inputs could not be safely coerced to any supported types according to the casting rule ''safe''"
     ]
    }
   ],
   "source": [
    "import numpy as np\n",
    "def partidor_magico(tmp):\n",
    "    print(tmp)\n",
    "    if not isinstance(tmp,str) or np.isnan(tmp):\n",
    "        return ['0','0','0']\n",
    "    a = re.findall('[0-9]+',tmp)\n",
    "    if len(re.findall('[0-9]+',tmp)) == 1:\n",
    "        a.append('0')\n",
    "        a.append('0')\n",
    "        print(a)\n",
    "    elif len(re.findall('[0-9]+',tmp)) == 2:\n",
    "        a.append('0')\n",
    "        print(a)\n",
    "    elif len(re.findall('[0-9]+',tmp)) == 3:\n",
    "        print(a)\n",
    "    else:\n",
    "        print('0')\n",
    "    return a\n",
    "\n",
    "\n",
    "df['prueba'] = df.numero_plazas.apply(lambda x: partidor_magico(x)[0])\n",
    "df.prueba.head()"
   ]
  },
  {
   "cell_type": "code",
   "execution_count": 13,
   "metadata": {},
   "outputs": [],
   "source": [
    "# fecha_inicio -> date\n",
    "df.fecha_inicio = df.fecha_inicio.apply(parsea_fecha)"
   ]
  },
  {
   "cell_type": "code",
   "execution_count": 14,
   "metadata": {},
   "outputs": [],
   "source": [
    "# eurotaxi -> obj\n",
    "df.eurotaxi = df.eurotaxi.replace('SI', '1')\n",
    "df.eurotaxi = df.eurotaxi.replace('NO', '0')"
   ]
  },
  {
   "cell_type": "code",
   "execution_count": 15,
   "metadata": {},
   "outputs": [],
   "source": [
    "# regimen_eurotaxi -> obj\n",
    "df.regimen_eurotaxi = df.regimen_eurotaxi.replace('SI','1')\n",
    "df.regimen_eurotaxi = df.regimen_eurotaxi.replace('NO','0')"
   ]
  },
  {
   "cell_type": "code",
   "execution_count": 16,
   "metadata": {},
   "outputs": [],
   "source": [
    "# fecha_inicio_eurotaxi -> date\n",
    "df.fecha_inicio_eurotaxi= df.fecha_inicio_eurotaxi.apply(parsea_fecha)"
   ]
  },
  {
   "cell_type": "code",
   "execution_count": 17,
   "metadata": {},
   "outputs": [],
   "source": [
    "# fecha_fin_eurotaxi -> date\n",
    "df.fecha_fin_eurotaxi = df.fecha_fin_eurotaxi.apply(parsea_fecha)"
   ]
  },
  {
   "cell_type": "code",
   "execution_count": 18,
   "metadata": {},
   "outputs": [],
   "source": [
    "# fecha -> date\n",
    "df.fecha = df.fecha.apply(parsea_fecha)"
   ]
  },
  {
   "cell_type": "code",
   "execution_count": 47,
   "metadata": {},
   "outputs": [
    {
     "data": {
      "text/html": [
       "<div>\n",
       "<style scoped>\n",
       "    .dataframe tbody tr th:only-of-type {\n",
       "        vertical-align: middle;\n",
       "    }\n",
       "\n",
       "    .dataframe tbody tr th {\n",
       "        vertical-align: top;\n",
       "    }\n",
       "\n",
       "    .dataframe thead th {\n",
       "        text-align: right;\n",
       "    }\n",
       "</style>\n",
       "<table border=\"1\" class=\"dataframe\">\n",
       "  <thead>\n",
       "    <tr style=\"text-align: right;\">\n",
       "      <th></th>\n",
       "      <th>codigo</th>\n",
       "      <th>matricula</th>\n",
       "      <th>fecha_matriculacion</th>\n",
       "      <th>marca</th>\n",
       "      <th>modelo</th>\n",
       "      <th>clasificacion_medioambiental</th>\n",
       "      <th>combustible</th>\n",
       "      <th>cilindrada</th>\n",
       "      <th>potencia</th>\n",
       "      <th>numero_plazas</th>\n",
       "      <th>fecha_inicio</th>\n",
       "      <th>eurotaxi</th>\n",
       "      <th>regimen_eurotaxi</th>\n",
       "    </tr>\n",
       "  </thead>\n",
       "  <tbody>\n",
       "    <tr>\n",
       "      <th>0</th>\n",
       "      <td>1020144</td>\n",
       "      <td>2239DTJ</td>\n",
       "      <td>2005-12-13</td>\n",
       "      <td>SKODA</td>\n",
       "      <td>OCTAVIA</td>\n",
       "      <td>NaN</td>\n",
       "      <td>DIESEL</td>\n",
       "      <td>0</td>\n",
       "      <td>12.0</td>\n",
       "      <td>NaN</td>\n",
       "      <td>2005-12-16</td>\n",
       "      <td>0</td>\n",
       "      <td>0</td>\n",
       "    </tr>\n",
       "    <tr>\n",
       "      <th>15646</th>\n",
       "      <td>1020144</td>\n",
       "      <td>2239DTJ</td>\n",
       "      <td>2005-12-13</td>\n",
       "      <td>SKODA</td>\n",
       "      <td>OCTAVIA</td>\n",
       "      <td>NaN</td>\n",
       "      <td>DIESEL</td>\n",
       "      <td>0</td>\n",
       "      <td>12.0</td>\n",
       "      <td>NaN</td>\n",
       "      <td>2005-12-16</td>\n",
       "      <td>0</td>\n",
       "      <td>0</td>\n",
       "    </tr>\n",
       "    <tr>\n",
       "      <th>31294</th>\n",
       "      <td>1020144</td>\n",
       "      <td>2239DTJ</td>\n",
       "      <td>2005-12-13</td>\n",
       "      <td>SKODA</td>\n",
       "      <td>OCTAVIA</td>\n",
       "      <td>NaN</td>\n",
       "      <td>DIESEL</td>\n",
       "      <td>0</td>\n",
       "      <td>12.0</td>\n",
       "      <td>NaN</td>\n",
       "      <td>2005-12-16</td>\n",
       "      <td>0</td>\n",
       "      <td>0</td>\n",
       "    </tr>\n",
       "    <tr>\n",
       "      <th>39451</th>\n",
       "      <td>1067525</td>\n",
       "      <td>8924FKG</td>\n",
       "      <td>2007-01-08</td>\n",
       "      <td>SKODA</td>\n",
       "      <td>OCTAVIA 1.9 TDI 5v man (2005)</td>\n",
       "      <td>B</td>\n",
       "      <td>DIESEL</td>\n",
       "      <td>1896</td>\n",
       "      <td>77.0</td>\n",
       "      <td>5</td>\n",
       "      <td>2007-01-10</td>\n",
       "      <td>0</td>\n",
       "      <td>0</td>\n",
       "    </tr>\n",
       "    <tr>\n",
       "      <th>23654</th>\n",
       "      <td>1067525</td>\n",
       "      <td>8924FKG</td>\n",
       "      <td>2007-01-08</td>\n",
       "      <td>SKODA</td>\n",
       "      <td>OCTAVIA 1.9 TDI 5v man (2005)</td>\n",
       "      <td>B</td>\n",
       "      <td>DIESEL</td>\n",
       "      <td>1896</td>\n",
       "      <td>77.0</td>\n",
       "      <td>5</td>\n",
       "      <td>2007-01-10</td>\n",
       "      <td>0</td>\n",
       "      <td>0</td>\n",
       "    </tr>\n",
       "  </tbody>\n",
       "</table>\n",
       "</div>"
      ],
      "text/plain": [
       "        codigo matricula fecha_matriculacion  marca  \\\n",
       "0      1020144   2239DTJ          2005-12-13  SKODA   \n",
       "15646  1020144   2239DTJ          2005-12-13  SKODA   \n",
       "31294  1020144   2239DTJ          2005-12-13  SKODA   \n",
       "39451  1067525   8924FKG          2007-01-08  SKODA   \n",
       "23654  1067525   8924FKG          2007-01-08  SKODA   \n",
       "\n",
       "                              modelo clasificacion_medioambiental combustible  \\\n",
       "0                            OCTAVIA                          NaN      DIESEL   \n",
       "15646                        OCTAVIA                          NaN      DIESEL   \n",
       "31294                        OCTAVIA                          NaN      DIESEL   \n",
       "39451  OCTAVIA 1.9 TDI 5v man (2005)                            B      DIESEL   \n",
       "23654  OCTAVIA 1.9 TDI 5v man (2005)                            B      DIESEL   \n",
       "\n",
       "       cilindrada  potencia numero_plazas fecha_inicio eurotaxi  \\\n",
       "0               0      12.0           NaN   2005-12-16        0   \n",
       "15646           0      12.0           NaN   2005-12-16        0   \n",
       "31294           0      12.0           NaN   2005-12-16        0   \n",
       "39451        1896      77.0             5   2007-01-10        0   \n",
       "23654        1896      77.0             5   2007-01-10        0   \n",
       "\n",
       "      regimen_eurotaxi  \n",
       "0                    0  \n",
       "15646                0  \n",
       "31294                0  \n",
       "39451                0  \n",
       "23654                0  "
      ]
     },
     "execution_count": 47,
     "metadata": {},
     "output_type": "execute_result"
    }
   ],
   "source": [
    "#eliminamos columnas inservibles y ordenamos por fecha de matriculación\n",
    "df = df.drop(['tipo','variante','fecha_inicio_eurotaxi','fecha_fin_eurotaxi','fecha'],axis=1)\n",
    "df = df.sort_values(by='fecha_matriculacion')\n",
    "df.head()"
   ]
  },
  {
   "cell_type": "code",
   "execution_count": 19,
   "metadata": {},
   "outputs": [
    {
     "data": {
      "text/plain": [
       "codigo                                  object\n",
       "matricula                               object\n",
       "fecha_matriculacion             datetime64[ns]\n",
       "marca                                   object\n",
       "modelo                                  object\n",
       "tipo                                    object\n",
       "variante                                object\n",
       "clasificacion_medioambiental          category\n",
       "combustible                             object\n",
       "cilindrada                               int64\n",
       "potencia                               float64\n",
       "numero_plazas                           object\n",
       "fecha_inicio                    datetime64[ns]\n",
       "eurotaxi                                object\n",
       "regimen_eurotaxi                        object\n",
       "fecha_inicio_eurotaxi           datetime64[ns]\n",
       "fecha_fin_eurotaxi              datetime64[ns]\n",
       "fecha                           datetime64[ns]\n",
       "dtype: object"
      ]
     },
     "execution_count": 19,
     "metadata": {},
     "output_type": "execute_result"
    }
   ],
   "source": [
    "# 2.3 Confirmar cambios\n",
    "df.dtypes\n"
   ]
  },
  {
   "cell_type": "code",
   "execution_count": 42,
   "metadata": {},
   "outputs": [
    {
     "data": {
      "text/html": [
       "<div>\n",
       "<style scoped>\n",
       "    .dataframe tbody tr th:only-of-type {\n",
       "        vertical-align: middle;\n",
       "    }\n",
       "\n",
       "    .dataframe tbody tr th {\n",
       "        vertical-align: top;\n",
       "    }\n",
       "\n",
       "    .dataframe thead th {\n",
       "        text-align: right;\n",
       "    }\n",
       "</style>\n",
       "<table border=\"1\" class=\"dataframe\">\n",
       "  <thead>\n",
       "    <tr style=\"text-align: right;\">\n",
       "      <th></th>\n",
       "      <th>Marca</th>\n",
       "      <th>Modelo</th>\n",
       "      <th>Tipo</th>\n",
       "      <th>Contraseña de Homologación</th>\n",
       "      <th>Variante</th>\n",
       "      <th>Versión</th>\n",
       "      <th>Parte Fija Vin</th>\n",
       "      <th>Combustible</th>\n",
       "      <th>Eurotaxi</th>\n",
       "      <th>Cilindrada</th>\n",
       "      <th>Potencia</th>\n",
       "      <th>Tipo de Cambio</th>\n",
       "      <th>Nº Plazas</th>\n",
       "      <th>Mampara s/n</th>\n",
       "      <th>Comercializado s/n</th>\n",
       "      <th>Clasificación D.G.T.</th>\n",
       "    </tr>\n",
       "  </thead>\n",
       "  <tbody>\n",
       "    <tr>\n",
       "      <th>0</th>\n",
       "      <td>CITROEN</td>\n",
       "      <td>CITROEN C-ELYSEE eco-glv</td>\n",
       "      <td>FE-CO1</td>\n",
       "      <td>e9*NKS*10152*00</td>\n",
       "      <td>FE14</td>\n",
       "      <td>FE14C1</td>\n",
       "      <td>VF7DDNFP0</td>\n",
       "      <td>GLP / GASOLINA</td>\n",
       "      <td>NO</td>\n",
       "      <td>1587</td>\n",
       "      <td>85.0</td>\n",
       "      <td>MANUAL 5V</td>\n",
       "      <td>5</td>\n",
       "      <td>SI</td>\n",
       "      <td>NO</td>\n",
       "      <td>ECO</td>\n",
       "    </tr>\n",
       "    <tr>\n",
       "      <th>1</th>\n",
       "      <td>CITROEN</td>\n",
       "      <td>CITROEN C-ELYSEE eco-glv</td>\n",
       "      <td>FE-CO1/1</td>\n",
       "      <td>e9*NKS*10153*00</td>\n",
       "      <td>FE14C</td>\n",
       "      <td>FE14C1C</td>\n",
       "      <td>VF7DDNFP0</td>\n",
       "      <td>GLP / GASOLINA</td>\n",
       "      <td>NO</td>\n",
       "      <td>1587</td>\n",
       "      <td>85.0</td>\n",
       "      <td>MANUAL 5V</td>\n",
       "      <td>5</td>\n",
       "      <td>SI</td>\n",
       "      <td>NO</td>\n",
       "      <td>ECO</td>\n",
       "    </tr>\n",
       "    <tr>\n",
       "      <th>2</th>\n",
       "      <td>CITROEN</td>\n",
       "      <td>CITROEN C-ELYSEE eco-glv</td>\n",
       "      <td>FE-CO2</td>\n",
       "      <td>e9*NKS*10331*00</td>\n",
       "      <td>FE15</td>\n",
       "      <td>FE15C1</td>\n",
       "      <td>VF7DDNFP6</td>\n",
       "      <td>GLP / GASOLINA</td>\n",
       "      <td>NO</td>\n",
       "      <td>1587</td>\n",
       "      <td>85.0</td>\n",
       "      <td>MANUAL 5V</td>\n",
       "      <td>5</td>\n",
       "      <td>SI</td>\n",
       "      <td>NO</td>\n",
       "      <td>ECO</td>\n",
       "    </tr>\n",
       "    <tr>\n",
       "      <th>3</th>\n",
       "      <td>CITROEN</td>\n",
       "      <td>CITROEN C-ELYSEE eco-glv</td>\n",
       "      <td>FECO2/1</td>\n",
       "      <td>e9*NKS*10332*00</td>\n",
       "      <td>FE15C</td>\n",
       "      <td>FE15C1C</td>\n",
       "      <td>VF7DDNFP6</td>\n",
       "      <td>GLP / GASOLINA</td>\n",
       "      <td>NO</td>\n",
       "      <td>1587</td>\n",
       "      <td>85.0</td>\n",
       "      <td>MANUAL 5V</td>\n",
       "      <td>5</td>\n",
       "      <td>SI</td>\n",
       "      <td>NO</td>\n",
       "      <td>ECO</td>\n",
       "    </tr>\n",
       "    <tr>\n",
       "      <th>4</th>\n",
       "      <td>CITROEN</td>\n",
       "      <td>CITROEN C-ELYSEE eco-glv</td>\n",
       "      <td>F</td>\n",
       "      <td>e9*KS07/46*6445*00</td>\n",
       "      <td>FECE</td>\n",
       "      <td>M/1</td>\n",
       "      <td>VF7DDNFP6</td>\n",
       "      <td>GLP / GASOLINA</td>\n",
       "      <td>NO</td>\n",
       "      <td>1587</td>\n",
       "      <td>85.0</td>\n",
       "      <td>MANUAL 5V</td>\n",
       "      <td>5</td>\n",
       "      <td>SI</td>\n",
       "      <td>SI</td>\n",
       "      <td>ECO</td>\n",
       "    </tr>\n",
       "    <tr>\n",
       "      <th>5</th>\n",
       "      <td>CITROEN</td>\n",
       "      <td>CITROEN C-ELYSEE eco-glv</td>\n",
       "      <td>F</td>\n",
       "      <td>e9*KS07/46*6445*00</td>\n",
       "      <td>FECE</td>\n",
       "      <td>M</td>\n",
       "      <td>VF7DDNFP6</td>\n",
       "      <td>GLP / GASOLINA</td>\n",
       "      <td>NO</td>\n",
       "      <td>1587</td>\n",
       "      <td>85.0</td>\n",
       "      <td>MANUAL 5V</td>\n",
       "      <td>5</td>\n",
       "      <td>SI</td>\n",
       "      <td>SI</td>\n",
       "      <td>ECO</td>\n",
       "    </tr>\n",
       "    <tr>\n",
       "      <th>6</th>\n",
       "      <td>CITROEN</td>\n",
       "      <td>CITROEN C-ELYSEE eco-glv</td>\n",
       "      <td>F</td>\n",
       "      <td>e9*KS07/46*6445</td>\n",
       "      <td>FECE</td>\n",
       "      <td>M/1</td>\n",
       "      <td>VF7DDNFP6</td>\n",
       "      <td>GLP / GASOLINA</td>\n",
       "      <td>NO</td>\n",
       "      <td>1587</td>\n",
       "      <td>85.0</td>\n",
       "      <td>MANUAL 5V</td>\n",
       "      <td>5</td>\n",
       "      <td>SI</td>\n",
       "      <td>SI</td>\n",
       "      <td>ECO</td>\n",
       "    </tr>\n",
       "    <tr>\n",
       "      <th>7</th>\n",
       "      <td>CITROEN</td>\n",
       "      <td>CITROEN C-ELYSEE eco-glv</td>\n",
       "      <td>F</td>\n",
       "      <td>e9*KS07/46*6445</td>\n",
       "      <td>FECE</td>\n",
       "      <td>M</td>\n",
       "      <td>VF7DDNFP6</td>\n",
       "      <td>GLP / GASOLINA</td>\n",
       "      <td>NO</td>\n",
       "      <td>1587</td>\n",
       "      <td>85.0</td>\n",
       "      <td>MANUAL 5V</td>\n",
       "      <td>5</td>\n",
       "      <td>SI</td>\n",
       "      <td>SI</td>\n",
       "      <td>ECO</td>\n",
       "    </tr>\n",
       "    <tr>\n",
       "      <th>8</th>\n",
       "      <td>DACIA</td>\n",
       "      <td>LODGY</td>\n",
       "      <td>SD</td>\n",
       "      <td>e2*2001/116*0314</td>\n",
       "      <td>JSDNV</td>\n",
       "      <td>JSDNV5</td>\n",
       "      <td>UU1JSDNV5</td>\n",
       "      <td>GLP / GASOLINA</td>\n",
       "      <td>NO</td>\n",
       "      <td>1598</td>\n",
       "      <td>75.0</td>\n",
       "      <td>MANUAL 6V</td>\n",
       "      <td>5</td>\n",
       "      <td>NO</td>\n",
       "      <td>NO</td>\n",
       "      <td>ECO</td>\n",
       "    </tr>\n",
       "    <tr>\n",
       "      <th>9</th>\n",
       "      <td>DACIA</td>\n",
       "      <td>LODGY</td>\n",
       "      <td>SD</td>\n",
       "      <td>e2*2001/116*0314</td>\n",
       "      <td>JSDJ3</td>\n",
       "      <td>JSDJ35</td>\n",
       "      <td>UU1JSDJ35</td>\n",
       "      <td>GLP / GASOLINA</td>\n",
       "      <td>NO</td>\n",
       "      <td>1598</td>\n",
       "      <td>60.5</td>\n",
       "      <td>MANUAL 6V</td>\n",
       "      <td>5</td>\n",
       "      <td>NO</td>\n",
       "      <td>NO</td>\n",
       "      <td>ECO</td>\n",
       "    </tr>\n",
       "  </tbody>\n",
       "</table>\n",
       "</div>"
      ],
      "text/plain": [
       "     Marca                    Modelo      Tipo Contraseña de Homologación  \\\n",
       "0  CITROEN  CITROEN C-ELYSEE eco-glv    FE-CO1            e9*NKS*10152*00   \n",
       "1  CITROEN  CITROEN C-ELYSEE eco-glv  FE-CO1/1            e9*NKS*10153*00   \n",
       "2  CITROEN  CITROEN C-ELYSEE eco-glv    FE-CO2            e9*NKS*10331*00   \n",
       "3  CITROEN  CITROEN C-ELYSEE eco-glv   FECO2/1            e9*NKS*10332*00   \n",
       "4  CITROEN  CITROEN C-ELYSEE eco-glv         F         e9*KS07/46*6445*00   \n",
       "5  CITROEN  CITROEN C-ELYSEE eco-glv         F         e9*KS07/46*6445*00   \n",
       "6  CITROEN  CITROEN C-ELYSEE eco-glv         F            e9*KS07/46*6445   \n",
       "7  CITROEN  CITROEN C-ELYSEE eco-glv         F            e9*KS07/46*6445   \n",
       "8    DACIA                     LODGY        SD           e2*2001/116*0314   \n",
       "9    DACIA                     LODGY        SD           e2*2001/116*0314   \n",
       "\n",
       "  Variante  Versión Parte Fija Vin     Combustible Eurotaxi  Cilindrada  \\\n",
       "0     FE14   FE14C1      VF7DDNFP0  GLP / GASOLINA       NO        1587   \n",
       "1    FE14C  FE14C1C      VF7DDNFP0  GLP / GASOLINA       NO        1587   \n",
       "2     FE15   FE15C1      VF7DDNFP6  GLP / GASOLINA       NO        1587   \n",
       "3    FE15C  FE15C1C      VF7DDNFP6  GLP / GASOLINA       NO        1587   \n",
       "4     FECE      M/1      VF7DDNFP6  GLP / GASOLINA       NO        1587   \n",
       "5     FECE        M      VF7DDNFP6  GLP / GASOLINA       NO        1587   \n",
       "6     FECE      M/1      VF7DDNFP6  GLP / GASOLINA       NO        1587   \n",
       "7     FECE        M      VF7DDNFP6  GLP / GASOLINA       NO        1587   \n",
       "8    JSDNV   JSDNV5      UU1JSDNV5  GLP / GASOLINA       NO        1598   \n",
       "9    JSDJ3   JSDJ35      UU1JSDJ35  GLP / GASOLINA       NO        1598   \n",
       "\n",
       "   Potencia Tipo de Cambio Nº Plazas Mampara s/n Comercializado s/n  \\\n",
       "0      85.0      MANUAL 5V         5          SI                 NO   \n",
       "1      85.0      MANUAL 5V         5          SI                 NO   \n",
       "2      85.0      MANUAL 5V         5          SI                 NO   \n",
       "3      85.0      MANUAL 5V         5          SI                 NO   \n",
       "4      85.0      MANUAL 5V         5          SI                 SI   \n",
       "5      85.0      MANUAL 5V         5          SI                 SI   \n",
       "6      85.0      MANUAL 5V         5          SI                 SI   \n",
       "7      85.0      MANUAL 5V         5          SI                 SI   \n",
       "8      75.0      MANUAL 6V         5          NO                 NO   \n",
       "9      60.5      MANUAL 6V         5          NO                 NO   \n",
       "\n",
       "  Clasificación D.G.T.  \n",
       "0                  ECO  \n",
       "1                  ECO  \n",
       "2                  ECO  \n",
       "3                  ECO  \n",
       "4                  ECO  \n",
       "5                  ECO  \n",
       "6                  ECO  \n",
       "7                  ECO  \n",
       "8                  ECO  \n",
       "9                  ECO  "
      ]
     },
     "execution_count": 42,
     "metadata": {},
     "output_type": "execute_result"
    }
   ],
   "source": [
    "\n",
    "df_2 = pd.read_csv('TaxiModelos.csv' , encoding = 'latin-1', sep = \";\")\n",
    "df_2.head(10)\n"
   ]
  },
  {
   "cell_type": "code",
   "execution_count": 43,
   "metadata": {},
   "outputs": [
    {
     "data": {
      "text/plain": [
       "Index(['marca', 'modelo', 'tipo', 'constrasena_homologacion', 'variante',\n",
       "       'version', 'parte_fija_vin', 'combustible', 'eurotaxi', 'cilindrada',\n",
       "       'potencia', 'tipo_cambio', 'nº_plazas', 'mampara', 'comercializado',\n",
       "       'clasificacion_dgt'],\n",
       "      dtype='object')"
      ]
     },
     "execution_count": 43,
     "metadata": {},
     "output_type": "execute_result"
    }
   ],
   "source": [
    "# 1. Renombrar columnas \n",
    "# 1.1 Cambiar los tÌtulos a min˙sculas\n",
    "\n",
    "df_2.columns = df_2.columns.str.lower()\n",
    "\n",
    "# 1.2 Sustituir espacios por \"_\"\n",
    "df_2.columns = df_2.columns.str.replace(' ','_')\n",
    "\n",
    "\n",
    "# 1.3 Quitar tildes\n",
    "df_2.columns = df_2.columns.str.replace(\"á\", \"a\").str.replace(\"é\", \"e\").str.replace(\"í\", \"i\").str.replace(\"ó\", \"o\").str.replace(\"ú\", \"u\").str.replace(\"ñ\", \"n\")\n",
    "\n",
    "# 1.4 Renombrar manualmente las columnas con nombres m·s largos\n",
    "df_2 = df_2.rename(columns= {'contrasena_de_homologacion':'constrasena_homologacion',\n",
    "                   'tipo_de_cambio':'tipo_cambio', \n",
    "                   'n∫_plazas':'n_plazas', \n",
    "                   'mampara_s/n':'mampara', \n",
    "                   'comercializado_s/n':'comercializado',\n",
    "                   'clasificacion_d.g.t.':'clasificacion_dgt'})\n",
    "\n",
    "# 1.5 Comprobar nombre de columnas\n",
    "df_2.columns"
   ]
  },
  {
   "cell_type": "code",
   "execution_count": 44,
   "metadata": {},
   "outputs": [
    {
     "data": {
      "text/plain": [
       "marca                        object\n",
       "modelo                       object\n",
       "tipo                         object\n",
       "constrasena_homologacion     object\n",
       "variante                     object\n",
       "version                      object\n",
       "parte_fija_vin               object\n",
       "combustible                  object\n",
       "eurotaxi                     object\n",
       "cilindrada                    int64\n",
       "potencia                    float64\n",
       "tipo_cambio                  object\n",
       "nº_plazas                    object\n",
       "mampara                      object\n",
       "comercializado               object\n",
       "clasificacion_dgt            object\n",
       "dtype: object"
      ]
     },
     "execution_count": 44,
     "metadata": {},
     "output_type": "execute_result"
    }
   ],
   "source": [
    "# 2. Convertir variables\n",
    "# 2.1 Inspeccionar el tipo de variables\n",
    "df_2.dtypes"
   ]
  },
  {
   "cell_type": "code",
   "execution_count": 23,
   "metadata": {},
   "outputs": [],
   "source": [
    "# 2.2 Identificar las variables a cambiar\n",
    "\n",
    "# marca -> OK\n",
    "\n",
    "# modelo -> OK\n",
    "\n",
    "# tipo -> OK\n",
    "\n",
    "# contrasena_homologacion -> OK\n",
    "\n",
    "# variante -> OK\n",
    "\n",
    "# version -> OK\n",
    "\n",
    "# parte_fija_vin -> OK\n",
    "\n",
    "# combustible -> OK"
   ]
  },
  {
   "cell_type": "code",
   "execution_count": 45,
   "metadata": {},
   "outputs": [],
   "source": [
    "# eurotaxi -> OK (cambiar si y no por 1 y 0)\n",
    "df_2.eurotaxi = df_2.eurotaxi.replace('SI','1')\n",
    "df_2.eurotaxi = df_2.eurotaxi.replace('NO','0')"
   ]
  },
  {
   "cell_type": "code",
   "execution_count": 25,
   "metadata": {},
   "outputs": [],
   "source": [
    "# cilindrada -> OK\n",
    "\n",
    "# potencia -> OK\n",
    "\n",
    "# tipo_cambio -> OK\n",
    "\n",
    "# n_plazas -> cambiar\n"
   ]
  },
  {
   "cell_type": "code",
   "execution_count": 26,
   "metadata": {},
   "outputs": [],
   "source": [
    "# mampara -> OK (cambiar si y no por 1 y 0)\n",
    "df_2.mampara = df_2.mampara.replace('SI','1')\n",
    "df_2.mampara = df_2.mampara.replace('NO','0')"
   ]
  },
  {
   "cell_type": "code",
   "execution_count": 27,
   "metadata": {},
   "outputs": [],
   "source": [
    "# comercializado -> OK (cambiar si y no por 1 y 0)\n",
    "df_2.comercializado = df_2.comercializado.replace('SI','1')\n",
    "df_2.comercializado = df_2.comercializado.replace('NO','0')"
   ]
  },
  {
   "cell_type": "code",
   "execution_count": 28,
   "metadata": {},
   "outputs": [
    {
     "data": {
      "text/plain": [
       "0    NaN\n",
       "1    NaN\n",
       "2    NaN\n",
       "3    NaN\n",
       "4    NaN\n",
       "Name: clasificacion_dgt, dtype: category\n",
       "Categories (4, object): [0, Eco, C, B]"
      ]
     },
     "execution_count": 28,
     "metadata": {},
     "output_type": "execute_result"
    }
   ],
   "source": [
    "# clasificacion_medioambiental -> category\n",
    "df_2[\"clasificacion_dgt\"] = pd.Categorical(df_2[\"clasificacion_dgt\"], [\"0\", \"Eco\", \"C\", \"B\"])\n",
    "df_2.clasificacion_dgt.head()"
   ]
  },
  {
   "cell_type": "code",
   "execution_count": 29,
   "metadata": {},
   "outputs": [
    {
     "data": {
      "text/plain": [
       "marca                         object\n",
       "modelo                        object\n",
       "tipo                          object\n",
       "constrasena_homologacion      object\n",
       "variante                      object\n",
       "version                       object\n",
       "parte_fija_vin                object\n",
       "combustible                   object\n",
       "eurotaxi                      object\n",
       "cilindrada                     int64\n",
       "potencia                     float64\n",
       "tipo_cambio                   object\n",
       "nº_plazas                     object\n",
       "mampara                       object\n",
       "comercializado                object\n",
       "clasificacion_dgt           category\n",
       "dtype: object"
      ]
     },
     "execution_count": 29,
     "metadata": {},
     "output_type": "execute_result"
    }
   ],
   "source": [
    "# 2.3 Confirmar cambios\n",
    "df_2.dtypes"
   ]
  },
  {
   "cell_type": "code",
   "execution_count": 30,
   "metadata": {},
   "outputs": [],
   "source": [
    "import seaborn as sns\n",
    "from matplotlib import rcParams\n",
    "import matplotlib.pyplot as plt\n",
    "\n",
    "rcParams['figure.figsize'] = 14, 10\n",
    "sns.set_context('talk')\n"
   ]
  },
  {
   "cell_type": "code",
   "execution_count": 31,
   "metadata": {
    "scrolled": true
   },
   "outputs": [
    {
     "name": "stderr",
     "output_type": "stream",
     "text": [
      "/anaconda3/lib/python3.7/site-packages/scipy/stats/stats.py:1713: FutureWarning: Using a non-tuple sequence for multidimensional indexing is deprecated; use `arr[tuple(seq)]` instead of `arr[seq]`. In the future this will be interpreted as an array index, `arr[np.array(seq)]`, which will result either in an error or a different result.\n",
      "  return np.add.reduce(sorted[indexer] * weights, axis=axis) / sumval\n"
     ]
    },
    {
     "data": {
      "image/png": "[encoded data removed]",
      "text/plain": [
       "<Figure size 432x288 with 1 Axes>"
      ]
     },
     "metadata": {
      "needs_background": "light"
     },
     "output_type": "display_data"
    }
   ],
   "source": [
    "#distribución cilindrada\n",
    "out = sns.distplot(df.cilindrada)"
   ]
  },
  {
   "cell_type": "code",
   "execution_count": 32,
   "metadata": {},
   "outputs": [
    {
     "data": {
      "text/plain": [
       "<matplotlib.axes._subplots.AxesSubplot at 0x10a9ad3c8>"
      ]
     },
     "execution_count": 32,
     "metadata": {},
     "output_type": "execute_result"
    },
    {
     "data": {
      "image/png": "[encoded data removed]",
      "text/plain": [
       "<Figure size 432x288 with 1 Axes>"
      ]
     },
     "metadata": {
      "needs_background": "light"
     },
     "output_type": "display_data"
    }
   ],
   "source": [
    "#distribución de la potencia \n",
    "df.potencia.fillna(df.potencia.mean(),inplace=True)\n",
    "sns.distplot(df.potencia)"
   ]
  },
  {
   "cell_type": "code",
   "execution_count": 33,
   "metadata": {},
   "outputs": [
    {
     "data": {
      "image/png": "[encoded data removed]",
      "text/plain": [
       "<Figure size 432x288 with 1 Axes>"
      ]
     },
     "metadata": {
      "needs_background": "light"
     },
     "output_type": "display_data"
    }
   ],
   "source": [
    "grafico1 = sns.scatterplot(x='cilindrada', y='potencia', data=df).set_title('Relación entre cilindrada y potencia')"
   ]
  },
  {
   "cell_type": "code",
   "execution_count": 34,
   "metadata": {},
   "outputs": [
    {
     "data": {
      "image/png": "[encoded data removed]",
      "text/plain": [
       "<Figure size 432x288 with 1 Axes>"
      ]
     },
     "metadata": {
      "needs_background": "light"
     },
     "output_type": "display_data"
    }
   ],
   "source": [
    "grafico2 = sns.scatterplot(x='cilindrada', y='potencia', data=df, hue = 'clasificacion_medioambiental',legend='brief', hue_order= ['0', 'ECO', 'B', 'C'], palette=\"Greens\").set_title('Relación entre cilindrada y potencia clasificado por cuanto contamina')"
   ]
  },
  {
   "cell_type": "code",
   "execution_count": 35,
   "metadata": {},
   "outputs": [
    {
     "data": {
      "text/plain": [
       "(array([ 0,  1,  2,  3,  4,  5,  6,  7,  8,  9, 10, 11, 12, 13, 14, 15, 16,\n",
       "        17]), <a list of 18 Text xticklabel objects>)"
      ]
     },
     "execution_count": 35,
     "metadata": {},
     "output_type": "execute_result"
    },
    {
     "data": {
      "image/png": "[encoded data removed]",
      "text/plain": [
       "<Figure size 432x288 with 1 Axes>"
      ]
     },
     "metadata": {
      "needs_background": "light"
     },
     "output_type": "display_data"
    }
   ],
   "source": [
    "out = sns.countplot(x='marca', hue='combustible', data=df)\n",
    "plt.xticks(rotation=45)"
   ]
  },
  {
   "cell_type": "code",
   "execution_count": 36,
   "metadata": {},
   "outputs": [
    {
     "name": "stderr",
     "output_type": "stream",
     "text": [
      "/anaconda3/lib/python3.7/site-packages/statsmodels/nonparametric/kde.py:488: RuntimeWarning: invalid value encountered in true_divide\n",
      "  binned = fast_linbin(X, a, b, gridsize) / (delta * nobs)\n",
      "/anaconda3/lib/python3.7/site-packages/statsmodels/nonparametric/kdetools.py:34: RuntimeWarning: invalid value encountered in double_scalars\n",
      "  FAC1 = 2*(np.pi*bw/RANGE)**2\n",
      "/anaconda3/lib/python3.7/site-packages/numpy/core/fromnumeric.py:83: RuntimeWarning: invalid value encountered in reduce\n",
      "  return ufunc.reduce(obj, axis, dtype, out, **passkwargs)\n"
     ]
    },
    {
     "data": {
      "image/png": "[encoded data removed]",
      "text/plain": [
       "<Figure size 1140.45x900 with 30 Axes>"
      ]
     },
     "metadata": {
      "needs_background": "light"
     },
     "output_type": "display_data"
    }
   ],
   "source": [
    "out = sns.pairplot(df, hue='clasificacion_medioambiental')"
   ]
  }
 ],
 "metadata": {
  "kernelspec": {
   "display_name": "Python 3",
   "language": "python",
   "name": "python3"
  },
  "language_info": {
   "codemirror_mode": {
    "name": "ipython",
    "version": 3
   },
   "file_extension": ".py",
   "mimetype": "text/x-python",
   "name": "python",
   "nbconvert_exporter": "python",
   "pygments_lexer": "ipython3",
   "version": "3.7.1"
  }
 },
 "nbformat": 4,
 "nbformat_minor": 2
}
